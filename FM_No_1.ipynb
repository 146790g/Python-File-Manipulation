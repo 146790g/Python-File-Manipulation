{
  "nbformat": 4,
  "nbformat_minor": 0,
  "metadata": {
    "kernelspec": {
      "display_name": "Python 3",
      "language": "python",
      "name": "python3"
    },
    "language_info": {
      "codemirror_mode": {
        "name": "ipython",
        "version": 3
      },
      "file_extension": ".py",
      "mimetype": "text/x-python",
      "name": "python",
      "nbconvert_exporter": "python",
      "pygments_lexer": "ipython3",
      "version": "3.6.10"
    },
    "colab": {
      "name": "FM No.1.ipynb",
      "provenance": [],
      "include_colab_link": true
    }
  },
  "cells": [
    {
      "cell_type": "markdown",
      "metadata": {
        "id": "view-in-github",
        "colab_type": "text"
      },
      "source": [
        "<a href=\"https://colab.research.google.com/github/146790g/Python-File-Manipulation/blob/master/FM_No_1.ipynb\" target=\"_parent\"><img src=\"https://colab.research.google.com/assets/colab-badge.svg\" alt=\"Open In Colab\"/></a>"
      ]
    },
    {
      "cell_type": "markdown",
      "metadata": {
        "id": "lCmtRz_H29Fo",
        "colab_type": "text"
      },
      "source": [
        "\n",
        "\n",
        "# keras.preprocessing.image による画像データのハンドリング\n",
        "\n",
        "## 複数の画像データを読み込んで、4階テンソルの配列データに変換する\n",
        "\n"
      ]
    },
    {
      "cell_type": "code",
      "metadata": {
        "id": "WxiBCiN5zJ55",
        "colab_type": "code",
        "colab": {
          "base_uri": "https://localhost:8080/",
          "height": 122
        },
        "outputId": "9d9bd744-38cf-47ae-974e-424bba937941"
      },
      "source": [
        "from google.colab import drive\n",
        "drive.mount('/content/gdrive')"
      ],
      "execution_count": 3,
      "outputs": [
        {
          "output_type": "stream",
          "text": [
            "Go to this URL in a browser: https://accounts.google.com/o/oauth2/auth?client_id=947318989803-6bn6qk8qdgf4n4g3pfee6491hc0brc4i.apps.googleusercontent.com&redirect_uri=urn%3aietf%3awg%3aoauth%3a2.0%3aoob&scope=email%20https%3a%2f%2fwww.googleapis.com%2fauth%2fdocs.test%20https%3a%2f%2fwww.googleapis.com%2fauth%2fdrive%20https%3a%2f%2fwww.googleapis.com%2fauth%2fdrive.photos.readonly%20https%3a%2f%2fwww.googleapis.com%2fauth%2fpeopleapi.readonly&response_type=code\n",
            "\n",
            "Enter your authorization code:\n",
            "··········\n",
            "Mounted at /content/gdrive\n"
          ],
          "name": "stdout"
        }
      ]
    },
    {
      "cell_type": "markdown",
      "metadata": {
        "id": "EYl8Yq7_29Fp",
        "colab_type": "text"
      },
      "source": [
        "### 1枚のカラー画像データの読み込んで、3階テンソルの配列データに変換する"
      ]
    },
    {
      "cell_type": "code",
      "metadata": {
        "id": "6eL-otqn29Fp",
        "colab_type": "code",
        "colab": {
          "base_uri": "https://localhost:8080/",
          "height": 68
        },
        "outputId": "a7a65bb4-54d3-4d12-8b60-3d5286cf6dc6"
      },
      "source": [
        "from keras.preprocessing.image import load_img\n",
        "from keras.preprocessing.image import load_img, img_to_array\n",
        "import os\n",
        "\n",
        "%pwd\n",
        "\n",
        "root_dir = '/content/gdrive/My Drive/Colab Notebooks/Python File Manipulation'\n",
        "\n",
        "file=os.path.join(root_dir,'ice.jpg')\n",
        "\n",
        "img = load_img(file,target_size=(200,200))\n",
        "\n",
        "print(type(img))\n",
        "\n",
        "array = img_to_array(img) \n",
        "\n",
        "print(type(array))\n",
        "print(array.shape)"
      ],
      "execution_count": 16,
      "outputs": [
        {
          "output_type": "stream",
          "text": [
            "<class 'PIL.Image.Image'>\n",
            "<class 'numpy.ndarray'>\n",
            "(200, 200, 3)\n"
          ],
          "name": "stdout"
        }
      ]
    },
    {
      "cell_type": "markdown",
      "metadata": {
        "id": "T2NcZIMo2kc6",
        "colab_type": "text"
      },
      "source": [
        "### 複数のカラー画像データを読み込んで、4階テンソルの配列データに変換する"
      ]
    },
    {
      "cell_type": "code",
      "metadata": {
        "id": "dhwv_3zC2s74",
        "colab_type": "code",
        "colab": {
          "base_uri": "https://localhost:8080/",
          "height": 68
        },
        "outputId": "519f888a-993e-46ed-e325-eb8dfdd7b5de"
      },
      "source": [
        "root_dir = '/content/gdrive/My Drive/Colab Notebooks/Python File Manipulation/'\n",
        "\n",
        "files = os.listdir(os.path.join(root_dir,'test'))\n",
        "\n",
        "print(files)\n",
        "\n",
        "file=os.path.join(root_dir,'test/', files[0])\n",
        "\n",
        "img = load_img(file,target_size=(200,200))\n",
        "\n",
        "print(type(img))\n",
        "\n",
        "array = img_to_array(img) \n",
        "\n",
        "print(type(array))\n",
        "\n"
      ],
      "execution_count": 29,
      "outputs": [
        {
          "output_type": "stream",
          "text": [
            "['SOB_B_TA-14-21978AB-400-012.png', 'SOB_B_TA-14-21978AB-400-013.png', 'SOB_B_TA-14-21978AB-400-014.png']\n",
            "<class 'PIL.Image.Image'>\n",
            "<class 'numpy.ndarray'>\n"
          ],
          "name": "stdout"
        }
      ]
    },
    {
      "cell_type": "code",
      "metadata": {
        "id": "VmB72Urw6CKy",
        "colab_type": "code",
        "colab": {
          "base_uri": "https://localhost:8080/",
          "height": 918
        },
        "outputId": "d9c0f0db-59aa-4f7f-e6ee-91f7bed9a11a"
      },
      "source": [
        "temp_img_array_list = []\n",
        "\n",
        "for img in files:\n",
        "  \n",
        "    file=os.path.join(root_dir,'test/', img)\n",
        "    temp_img = load_img(file,target_size=(224,224))\n",
        "\n",
        "    #PIL形式からNumpy配列に変換と正規化(224, 224, 3)\n",
        "    temp_img_array = img_to_array(temp_img) /255\n",
        "\n",
        "    #変換したNumpy配列を末尾に追加\n",
        "    temp_img_array_list.append(temp_img_array)\n",
        "\n",
        "print(temp_img_array)\n",
        "print(type(temp_img_array))\n",
        "print(len(temp_img_array_list))\n",
        "print(type(temp_img_array_list[0]))\n",
        "print(temp_img_array_list[0].shape)"
      ],
      "execution_count": 37,
      "outputs": [
        {
          "output_type": "stream",
          "text": [
            "[[[0.5803922  0.5411765  0.74509805]\n",
            "  [0.6392157  0.5921569  0.7490196 ]\n",
            "  [0.78039217 0.7254902  0.8235294 ]\n",
            "  ...\n",
            "  [0.9098039  0.9137255  0.89411765]\n",
            "  [0.9098039  0.91764706 0.90588236]\n",
            "  [0.92941177 0.9411765  0.9137255 ]]\n",
            "\n",
            " [[0.58431375 0.5372549  0.7176471 ]\n",
            "  [0.63529414 0.5882353  0.7294118 ]\n",
            "  [0.7529412  0.7019608  0.8039216 ]\n",
            "  ...\n",
            "  [0.8980392  0.90588236 0.8862745 ]\n",
            "  [0.9098039  0.91764706 0.90588236]\n",
            "  [0.92156863 0.93333334 0.8980392 ]]\n",
            "\n",
            " [[0.5764706  0.54901963 0.7137255 ]\n",
            "  [0.62352943 0.5921569  0.74509805]\n",
            "  [0.7137255  0.6784314  0.78431374]\n",
            "  ...\n",
            "  [0.8980392  0.90588236 0.8862745 ]\n",
            "  [0.9098039  0.91764706 0.90588236]\n",
            "  [0.9019608  0.9137255  0.8784314 ]]\n",
            "\n",
            " ...\n",
            "\n",
            " [[0.827451   0.827451   0.827451  ]\n",
            "  [0.8509804  0.84313726 0.8627451 ]\n",
            "  [0.8784314  0.87058824 0.8901961 ]\n",
            "  ...\n",
            "  [0.99215686 1.         0.9529412 ]\n",
            "  [0.9372549  0.9490196  0.8745098 ]\n",
            "  [0.8745098  0.88235295 0.827451  ]]\n",
            "\n",
            " [[0.9019608  0.8980392  0.88235295]\n",
            "  [0.85882354 0.85882354 0.8666667 ]\n",
            "  [0.90588236 0.9137255  0.9019608 ]\n",
            "  ...\n",
            "  [0.9098039  0.9372549  0.8666667 ]\n",
            "  [0.8980392  0.90588236 0.8235294 ]\n",
            "  [0.9019608  0.9019608  0.8627451 ]]\n",
            "\n",
            " [[0.8862745  0.89411765 0.88235295]\n",
            "  [0.84313726 0.87058824 0.84313726]\n",
            "  [0.9372549  0.9647059  0.9372549 ]\n",
            "  ...\n",
            "  [0.84313726 0.87058824 0.8       ]\n",
            "  [0.9098039  0.92156863 0.84705883]\n",
            "  [0.95686275 0.96862745 0.9254902 ]]]\n",
            "<class 'numpy.ndarray'>\n",
            "3\n",
            "<class 'numpy.ndarray'>\n",
            "(224, 224, 3)\n"
          ],
          "name": "stdout"
        }
      ]
    },
    {
      "cell_type": "code",
      "metadata": {
        "id": "Mkafebi08FGV",
        "colab_type": "code",
        "colab": {
          "base_uri": "https://localhost:8080/",
          "height": 51
        },
        "outputId": "f3aad4e1-aa45-451e-9de5-d5e4f04e7a51"
      },
      "source": [
        "import numpy as np\n",
        "\n",
        "\n",
        "arr_1d = np.array(temp_img_array_list)\n",
        "\n",
        "print(type(arr_1d))\n",
        "print(arr_1d.shape)"
      ],
      "execution_count": 42,
      "outputs": [
        {
          "output_type": "stream",
          "text": [
            "<class 'numpy.ndarray'>\n",
            "(3, 224, 224, 3)\n"
          ],
          "name": "stdout"
        }
      ]
    }
  ]
}